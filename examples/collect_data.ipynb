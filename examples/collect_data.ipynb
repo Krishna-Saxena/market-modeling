{
 "cells": [
  {
   "cell_type": "code",
   "id": "initial_id",
   "metadata": {
    "collapsed": true,
    "ExecuteTime": {
     "end_time": "2025-06-08T18:07:50.819522Z",
     "start_time": "2025-06-08T18:07:49.762439Z"
    }
   },
   "source": [
    "import os\n",
    "import shutil\n",
    "import time\n",
    "\n",
    "import pandas as pd\n",
    "import yfinance as yf\n",
    "\n",
    "pd.set_option('display.max_rows', 50)"
   ],
   "outputs": [],
   "execution_count": 1
  },
  {
   "cell_type": "code",
   "source": [
    "FIRST_DAY = '2019-01-01'\n",
    "\n",
    "DJIA_STOCKS = [\n",
    "  'AMZN', 'AXP', 'AMGN', 'AAPL', 'BA',\n",
    "  'CAT', 'CSCO', 'CVX', 'GS', 'HD',\n",
    "  'HON', 'IBM', 'INTC', 'JNJ', 'KO',\n",
    "  'JPM', 'MCD', 'MMM', 'MRK', 'MSFT',\n",
    "  'NKE', 'PG', 'TRV', 'UNH', 'CRM',\n",
    "  'VZ', 'V', 'WMT', 'DIS', 'DOW'\n",
    "]\n",
    "\n",
    "NASDAQ_100_STOCKS = [\n",
    "  'ADBE', 'ABNB', 'GOOGL', 'GOOG', 'AMZN', 'AMD', 'AEP', 'AMGN', 'ADI', 'ANSS',\n",
    "  'AAPL', 'AMAT', 'ASML', 'AZN', 'TEAM', 'ADSK', 'ADP', 'BKR', 'BIIB', 'BKNG',\n",
    "  'AVGO', 'CDNS', 'CHTR', 'CTAS', 'CSCO', 'CTSH', 'CMCSA', 'CEG', 'CPRT', 'CSGP',\n",
    "  'COST', 'CRWD', 'CSX', 'DDOG', 'DXCM', 'FANG', 'DLTR', 'EA', 'EXC', 'FAST',\n",
    "  'FTNT', 'GILD', 'GFS', 'HON', 'IDXX', 'ILMN', 'INTC', 'INTU', 'ISRG', 'KDP',\n",
    "  'KLAC', 'LRCX', 'LIN', 'LULU', 'MAR', 'MRVL', 'MELI', 'META', 'MCHP', 'MU',\n",
    "  'MSFT', 'MRNA', 'MDLZ', 'MNST', 'NFLX', 'NVDA', 'NXPI', 'ORLY', 'ODFL', 'ON',\n",
    "  'PCAR', 'PANW', 'PAYX', 'PYPL', 'PEP', 'PDD', 'QCOM', 'REGN', 'ROST', 'SIRI',\n",
    "  'SBUX', 'SNPS', 'TSLA', 'KHC', 'TMUS', 'VRSK', 'VRTX', 'WBA', 'WBD', 'WDAY',\n",
    "  'XEL', 'ZS'\n",
    "]\n",
    "\n",
    "#symbols = list(set(DJIA_STOCKS).union(NASDAQ_100_STOCKS))\n",
    "symbols = DJIA_STOCKS"
   ],
   "metadata": {
    "collapsed": false,
    "ExecuteTime": {
     "end_time": "2025-06-08T18:07:50.832149Z",
     "start_time": "2025-06-08T18:07:50.824710Z"
    }
   },
   "id": "ad6bd3f99b4df6d2",
   "outputs": [],
   "execution_count": 2
  },
  {
   "cell_type": "markdown",
   "source": [
    "We will populate the market-modeling/data/ directory as follows\n",
    "```\n",
    "\\data\n",
    " |  \\popular_stocks (this will be the name of the Market we create)\n",
    " |   |  \\growth_timeseries\n",
    " |   |   |  TCKR1.csv (the timeseries for stock TCKR1)\n",
    " |   |   |  TCKR2.csv (the timeseries for stock TCKR2)\n",
    " |   |   |   ...\n",
    " |   |  asset_metadata.tsv (a metadata table with 1 row/ticker, each row will have: symbol (ID), name, static covariates, heirarchy data)\n",
    "``` "
   ],
   "metadata": {
    "collapsed": false
   },
   "id": "252be4fdbda75fcf"
  },
  {
   "cell_type": "code",
   "source": [
    "ROOT_DATA_DIR = '../data/'\n",
    "mkt_dir_name = 'popular_stocks'\n",
    "mkt_root_dir = os.path.join(ROOT_DATA_DIR, mkt_dir_name)\n",
    "timeseries_root_dir = os.path.join(mkt_root_dir, 'growth_timeseries')\n",
    "\n",
    "if os.path.exists(mkt_root_dir):\n",
    "  shutil.rmtree(mkt_root_dir)\n",
    "os.mkdir(mkt_root_dir)\n",
    "os.mkdir(timeseries_root_dir)\n",
    "\n",
    "\n",
    "all_ids = []\n",
    "all_names = []\n",
    "all_sectors = []\n",
    "all_industries = []\n",
    "\n",
    "for symbol in symbols:\n",
    "  ticker = yf.Ticker(symbol)\n",
    "  all_ids.append(symbol)\n",
    "  all_names.append(ticker.info['shortName'].strip())\n",
    "  all_sectors.append(ticker.info['sectorKey'])\n",
    "  all_industries.append(ticker.info['industryKey'])\n",
    "  \n",
    "symbol_metadata = pd.DataFrame({'id':all_ids, 'name':all_names, 'sector':all_sectors, 'industry':all_industries})\n",
    "symbol_metadata.to_csv(os.path.join(mkt_root_dir, 'asset_metadata.tsv'), index=False, sep='\\t')\n",
    "\n",
    "for symbol in symbols:\n",
    "  ticker = yf.Ticker(symbol)\n",
    "  hist_df = ticker.history(start=FIRST_DAY, interval='1d').reset_index()\n",
    "  # convert Datetime from yfinance to Datetime.Date\n",
    "  hist_df['Date'] = hist_df['Date'].dt.date\n",
    "  # I recommend choosing either 'Open' or 'Close' as the signal because daily 'High' and 'Low' prices are themselves random variables \n",
    "  hist_df.rename(columns={'Date': 'date', 'Close':'price'}, inplace=True)\n",
    "  hist_df[['date', 'price']].to_csv(os.path.join(timeseries_root_dir, f'{symbol}.csv'), index=False)"
   ],
   "metadata": {
    "collapsed": false,
    "ExecuteTime": {
     "end_time": "2025-06-08T18:08:05.126312Z",
     "start_time": "2025-06-08T18:07:51.038874Z"
    }
   },
   "id": "fa28e0508781500e",
   "outputs": [],
   "execution_count": 3
  }
 ],
 "metadata": {
  "kernelspec": {
   "display_name": "Python 3",
   "language": "python",
   "name": "python3"
  },
  "language_info": {
   "codemirror_mode": {
    "name": "ipython",
    "version": 2
   },
   "file_extension": ".py",
   "mimetype": "text/x-python",
   "name": "python",
   "nbconvert_exporter": "python",
   "pygments_lexer": "ipython2",
   "version": "2.7.6"
  }
 },
 "nbformat": 4,
 "nbformat_minor": 5
}
