{
 "cells": [
  {
   "cell_type": "code",
   "source": [
    "# I was getting a ModuleNotFoundError, and I discovered that the cwd (current working directory) was\n",
    "#   '<Github Home>/market-modeling/examples/' but it needs to be '<Github Home>/market-modeling/'\n",
    "# The following code will add the cwd's parent directory to the path Python uses to search for packages\n",
    "import os\n",
    "import sys\n",
    "\n",
    "sys.path.append(os.path.dirname(os.getcwd()))"
   ],
   "metadata": {
    "collapsed": false
   },
   "id": "f50e150517413d0c",
   "outputs": [],
   "execution_count": null
  },
  {
   "cell_type": "code",
   "source": [
    "import os\n",
    "from datetime import datetime\n",
    "\n",
    "from gbm_models.Models import DependentModel\n",
    "from markets.Markets import XarrayMarket\n",
    "from assets.Assets import BaseAsset\n",
    "from metrics.Metrics import VarType, TimeseriesMetric\n",
    "from py_utils.py_utils import last_index_lt_1D\n",
    "\n",
    "import pandas as pd\n",
    "import numpy as np\n",
    "import matplotlib.pyplot as plt\n",
    "from matplotlib.colors import TwoSlopeNorm\n",
    "import xarray as xr\n",
    "\n",
    "# for auto-reloading extenrnal modules\n",
    "%load_ext autoreload\n",
    "%autoreload 2"
   ],
   "metadata": {
    "collapsed": false
   },
   "id": "f70ef4bc62fab35b",
   "outputs": [],
   "execution_count": null
  },
  {
   "cell_type": "code",
   "source": [
    "DEBUG = False\n",
    "DATA_DIR = '../data'\n",
    "MARKET_NAME = 'popular_stocks'\n",
    "TS_DIR = 'growth_timeseries'"
   ],
   "metadata": {
    "collapsed": false
   },
   "id": "d5b7ccbb0204f806",
   "outputs": [],
   "execution_count": null
  },
  {
   "cell_type": "code",
   "source": [
    "asset_list = []\n",
    "asset_metadata = pd.read_csv(os.path.join(DATA_DIR, MARKET_NAME, 'asset_metadata.tsv'), sep='\\t')\n",
    "\n",
    "for i, row in asset_metadata.iterrows():\n",
    "  if DEBUG:\n",
    "    if i == 5:\n",
    "      break\n",
    "  \n",
    "  asset_ts = pd.read_csv(\n",
    "    os.path.join(DATA_DIR, MARKET_NAME, TS_DIR, f\"{row['id']}.csv\"),\n",
    "    parse_dates=['date'],\n",
    "    dtype={'price' : np.float32}\n",
    "  )\n",
    "  \n",
    "  asset = BaseAsset(\n",
    "    row['name'],\n",
    "    row['id'],\n",
    "    {\n",
    "      'signal': TimeseriesMetric(asset_ts['date'], asset_ts['price'], VarType.QUANTITATIVE)\n",
    "    }\n",
    "  )\n",
    "  asset_list.append(asset)\n",
    "  \n",
    "market = XarrayMarket(asset_list, MARKET_NAME)\n",
    "dep_model = DependentModel(market)\n",
    "\n",
    "market.align_timeseries()"
   ],
   "metadata": {
    "collapsed": false
   },
   "id": "b7c5a9722e52fbc2",
   "outputs": [],
   "execution_count": null
  },
  {
   "metadata": {},
   "cell_type": "code",
   "source": "market.display_market()",
   "id": "fd41ace9c32ac09d",
   "outputs": [],
   "execution_count": null
  },
  {
   "metadata": {},
   "cell_type": "code",
   "source": "dep_model.estimate_parameters()",
   "id": "ea16c2dc064835c9",
   "outputs": [],
   "execution_count": null
  },
  {
   "metadata": {},
   "cell_type": "code",
   "source": "dep_model.drifts",
   "id": "bf0b0c954e3a9954",
   "outputs": [],
   "execution_count": null
  },
  {
   "metadata": {},
   "cell_type": "code",
   "source": [
    "Sigma = dep_model.get_correlation_mat()\n",
    "\n",
    "plt.set_cmap('bwr')\n",
    "cust_cmap = TwoSlopeNorm(0, Sigma.min(), Sigma.max())\n",
    "plt.matshow(Sigma, norm=cust_cmap)\n",
    "plt.xticks(np.arange(Sigma.shape[0]), labels=[asset.asset_id for asset in market.assets], rotation=60)\n",
    "plt.yticks(np.arange(Sigma.shape[1]), labels=[asset.asset_id for asset in market.assets])\n",
    "plt.colorbar();"
   ],
   "id": "ae7878b9bbec1c05",
   "outputs": [],
   "execution_count": null
  },
  {
   "cell_type": "code",
   "source": [
    "sim_dates = pd.to_datetime(\n",
    "  pd.Series(['01-24-2025', '01-27-2025', '01-28-2025', '01-29-2025'], name='dates'),\n",
    "  format='%m-%d-%Y'\n",
    ")\n",
    "\n",
    "sim_res = dep_model.simulate(sim_dates, num_sims=20)\n",
    "sim_counterfact = dep_model.simulate(sim_dates, 1, add_BM=False)"
   ],
   "metadata": {
    "collapsed": false
   },
   "id": "bc49d3612b893196",
   "outputs": [],
   "execution_count": null
  },
  {
   "cell_type": "code",
   "source": [
    "colors = ['C0', 'C1', 'C2', 'C3', 'C4']\n",
    "fig, ax = plt.subplots(figsize=(10,8))\n",
    "\n",
    "for i in range(len(colors)): #range(dep_model.N_ASSETS):\n",
    "  asset_i = dep_model.market.assets[i % dep_model.N_ASSETS]\n",
    "\n",
    "  recent_idx = last_index_lt_1D(market.xarray.time.values, np.datetime64(datetime(2024, 1, 1)))\n",
    "\n",
    "  disp_name = asset_i.asset_id\n",
    "  ax.plot(\n",
    "    market.xarray.isel(time=slice(recent_idx, None)).time, market.xarray.isel(time=slice(recent_idx, None)).sel(ID=asset_i.asset_id, variable='signal'),\n",
    "    '-o', color=colors[i % dep_model.N_ASSETS],\n",
    "    label=f'{disp_name} true signal'\n",
    "  )\n",
    "  \n",
    "  fut_dates = pd.concat((market.xarray.time[-1:].to_pandas(), sim_dates))\n",
    "  # ax.set_xlim([datetime(2025, 1, 1), sim_dates.max()])\n",
    "  ax.plot(\n",
    "    fut_dates, sim_counterfact[0, i, :],\n",
    "    color=colors[i % dep_model.N_ASSETS], marker='.', linestyle='dashed',\n",
    "    label=f'{disp_name} avg prediction'\n",
    "  )\n",
    "  for j_sim in range(sim_res.shape[0]):\n",
    "    ax.plot(\n",
    "      fut_dates, sim_res[j_sim, i, :],\n",
    "      alpha=0.5, color=colors[i % dep_model.N_ASSETS], linestyle='dotted', marker='.'\n",
    "    )\n",
    "ax.set(xlabel='Date', ylabel='close price', title='Close Prices vs Time')\n",
    "ax.set_yscale('log')\n",
    "fig.tight_layout()\n",
    "fig.legend(loc=2);"
   ],
   "metadata": {
    "collapsed": false
   },
   "id": "1caa107a6c0f1812",
   "outputs": [],
   "execution_count": null
  }
 ],
 "metadata": {
  "kernelspec": {
   "display_name": "Python 3",
   "language": "python",
   "name": "python3"
  },
  "language_info": {
   "codemirror_mode": {
    "name": "ipython",
    "version": 2
   },
   "file_extension": ".py",
   "mimetype": "text/x-python",
   "name": "python",
   "nbconvert_exporter": "python",
   "pygments_lexer": "ipython2",
   "version": "2.7.6"
  }
 },
 "nbformat": 4,
 "nbformat_minor": 5
}
