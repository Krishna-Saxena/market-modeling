{
 "cells": [
  {
   "cell_type": "code",
   "outputs": [],
   "source": [
    "import os\n",
    "from datetime import datetime\n",
    "\n",
    "from gbm_models.Models import IndependentModel\n",
    "from markets.Market import BaseMarket\n",
    "from assets.Assets import BaseAsset\n",
    "from metrics.Metrics import VarType, BaseTimeseries\n",
    "\n",
    "import pandas as pd\n",
    "import numpy as np\n",
    "import matplotlib.pyplot as plt"
   ],
   "metadata": {
    "collapsed": false
   },
   "id": "f70ef4bc62fab35b",
   "execution_count": null
  },
  {
   "cell_type": "code",
   "outputs": [],
   "source": [
    "DEBUG = True\n",
    "DATA_DIR = '../data'\n",
    "MARKET_NAME = 'popular_stocks'\n",
    "TS_DIR = 'growth_timeseries'"
   ],
   "metadata": {
    "collapsed": false
   },
   "id": "d5b7ccbb0204f806",
   "execution_count": null
  },
  {
   "cell_type": "code",
   "outputs": [],
   "source": [
    "asset_list = []\n",
    "asset_metadata = pd.read_csv(os.path.join(DATA_DIR, MARKET_NAME, 'asset_metadata.tsv'), sep='\\t')\n",
    "\n",
    "for i, row in asset_metadata.iterrows():\n",
    "  if DEBUG:\n",
    "    if i == 5:\n",
    "      break\n",
    "  \n",
    "  asset_ts = pd.read_csv(\n",
    "    os.path.join(DATA_DIR, MARKET_NAME, TS_DIR, f\"{row['id']}.csv\"),\n",
    "    parse_dates=['date'],\n",
    "    dtype={'price' : np.float32}\n",
    "  )\n",
    "  \n",
    "  asset = BaseAsset(\n",
    "    row['name'],\n",
    "    row['id'],\n",
    "    BaseTimeseries(asset_ts['date'], asset_ts['price'], VarType.QUANTITATIVE)\n",
    "  )\n",
    "  asset.growth_timeseries.remove_leading_zeros()\n",
    "  asset_list.append(asset)\n",
    "  \n",
    "market = BaseMarket(asset_list, MARKET_NAME)\n",
    "indep_model = IndependentModel(market)"
   ],
   "metadata": {
    "collapsed": false
   },
   "id": "b7c5a9722e52fbc2",
   "execution_count": null
  },
  {
   "cell_type": "code",
   "outputs": [],
   "source": [
    "indep_model.estimate_parameters()"
   ],
   "metadata": {
    "collapsed": false
   },
   "id": "f03d5bd157dd7ab",
   "execution_count": null
  },
  {
   "cell_type": "code",
   "outputs": [],
   "source": [
    "df_results = pd.DataFrame({\n",
    "  'id' : [asset.asset_id for asset in indep_model.market.assets],\n",
    "  'drifts' : indep_model.drifts,\n",
    "  'vols' : indep_model.vols\n",
    "})\n",
    "\n",
    "df_results"
   ],
   "metadata": {
    "collapsed": false
   },
   "id": "793aae231a265d00",
   "execution_count": null
  },
  {
   "cell_type": "code",
   "outputs": [],
   "source": [
    "sim_dates = pd.to_datetime(\n",
    "  pd.Series(['11-25-2024', '11-27-2024', '11-29-2024', '12-02-2024'], name='dates'),\n",
    "  format='%m-%d-%Y'\n",
    ")\n",
    "\n",
    "sim_res = indep_model.simulate(sim_dates, num_sims=20)\n",
    "sim_counterfact = indep_model.simulate(sim_dates, 1, add_BM=False)"
   ],
   "metadata": {
    "collapsed": false
   },
   "id": "bc49d3612b893196",
   "execution_count": null
  },
  {
   "cell_type": "code",
   "outputs": [],
   "source": [
    "colors = ['C0', 'C1', 'C2', 'C3', 'C4']\n",
    "fig, ax = plt.subplots(figsize=(10,8))\n",
    "\n",
    "for i in range(len(colors)): #range(indep_model.N_ASSETS):\n",
    "  asset_i = indep_model.market.assets[i % indep_model.N_ASSETS]\n",
    "  disp_name = asset_i.asset_id\n",
    "  ax.plot(asset_i.growth_timeseries.time, asset_i.growth_timeseries.signal, label=f'{disp_name} true signal',\n",
    "           color=colors[i % indep_model.N_ASSETS])\n",
    "  \n",
    "  fut_dates = pd.concat((asset_i.growth_timeseries.time[-1:], sim_dates))\n",
    "  ax.set_xlim([datetime(2024, 11, 1), sim_dates.max()])\n",
    "  ax.plot(fut_dates, sim_counterfact[0, i, :], label=f'{disp_name} avg prediction',\n",
    "           color=colors[i % indep_model.N_ASSETS], linestyle='dashed')\n",
    "  for j_sim in range(sim_res.shape[0]):\n",
    "    ax.plot(fut_dates, sim_res[j_sim, i, :],\n",
    "            alpha=0.5, color=colors[i % indep_model.N_ASSETS], linestyle='dotted')\n",
    "ax.set(xlabel='Date', ylabel='close price', title='Close Prices vs Time')\n",
    "fig.tight_layout()\n",
    "fig.legend(loc=2);"
   ],
   "metadata": {
    "collapsed": false
   },
   "id": "1caa107a6c0f1812",
   "execution_count": null
  }
 ],
 "metadata": {
  "kernelspec": {
   "display_name": "Python 3",
   "language": "python",
   "name": "python3"
  },
  "language_info": {
   "codemirror_mode": {
    "name": "ipython",
    "version": 2
   },
   "file_extension": ".py",
   "mimetype": "text/x-python",
   "name": "python",
   "nbconvert_exporter": "python",
   "pygments_lexer": "ipython2",
   "version": "2.7.6"
  }
 },
 "nbformat": 4,
 "nbformat_minor": 5
}
